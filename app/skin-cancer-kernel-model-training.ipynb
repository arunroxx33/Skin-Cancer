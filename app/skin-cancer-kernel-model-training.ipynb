{
 "cells": [
  {
   "cell_type": "code",
   "execution_count": 1,
   "metadata": {},
   "outputs": [
    {
     "name": "stderr",
     "output_type": "stream",
     "text": [
      "Using TensorFlow backend.\n"
     ]
    }
   ],
   "source": [
    "import os\n",
    "import tensorflow as tf\n",
    "import keras\n",
    "import pandas as pd\n",
    "from keras.applications.vgg19 import VGG19\n",
    "import keras.layers as L\n",
    "from keras.models import Model\n",
    "from keras.preprocessing.image import ImageDataGenerator\n",
    "import matplotlib.pyplot as plt"
   ]
  },
  {
   "cell_type": "code",
   "execution_count": 2,
   "metadata": {},
   "outputs": [
    {
     "name": "stdout",
     "output_type": "stream",
     "text": [
      "Training: nb malignant images: 1197\n",
      "Training: nb benign images: 1440\n",
      "Test: nb malignant images: 300\n",
      "Test: nb benign images: 360\n"
     ]
    }
   ],
   "source": [
    "print(\"Training: nb malignant images:\", len(os.listdir('../input/skin-cancer-malignant-vs-benign/train/malignant')))\n",
    "print(\"Training: nb benign images:\", len(os.listdir('../input/skin-cancer-malignant-vs-benign/train/benign')))\n",
    "print(\"Test: nb malignant images:\", len(os.listdir('../input/skin-cancer-malignant-vs-benign/test/malignant')))\n",
    "print(\"Test: nb benign images:\", len(os.listdir('../input/skin-cancer-malignant-vs-benign/test/benign')))"
   ]
  },
  {
   "cell_type": "code",
   "execution_count": 3,
   "metadata": {},
   "outputs": [],
   "source": [
    "path = '../input/skin-cancer-malignant-vs-benign/data/'\n",
    "bs = 64\n",
    "classes = ('Malignant','Benign')[::-1]"
   ]
  },
  {
   "cell_type": "code",
   "execution_count": 4,
   "metadata": {},
   "outputs": [],
   "source": [
    "gen = ImageDataGenerator(rescale=1/255.)"
   ]
  },
  {
   "cell_type": "code",
   "execution_count": 5,
   "metadata": {},
   "outputs": [
    {
     "name": "stdout",
     "output_type": "stream",
     "text": [
      "Found 2637 images belonging to 2 classes.\n"
     ]
    }
   ],
   "source": [
    "train_gen = gen.flow_from_directory(\"../input/skin-cancer-malignant-vs-benign/train/\",\n",
    "                                   target_size=(224, 244),\n",
    "                                   batch_size=bs,\n",
    "                                   class_mode='binary')"
   ]
  },
  {
   "cell_type": "code",
   "execution_count": 6,
   "metadata": {},
   "outputs": [
    {
     "name": "stdout",
     "output_type": "stream",
     "text": [
      "Found 660 images belonging to 2 classes.\n"
     ]
    }
   ],
   "source": [
    "val_gen = gen.flow_from_directory(\"../input/skin-cancer-malignant-vs-benign/test/\",\n",
    "                                   target_size=(224, 244),\n",
    "                                   batch_size=bs,\n",
    "                                   class_mode='binary')"
   ]
  },
  {
   "cell_type": "code",
   "execution_count": 7,
   "metadata": {},
   "outputs": [
    {
     "name": "stdout",
     "output_type": "stream",
     "text": [
      "Downloading data from https://github.com/fchollet/deep-learning-models/releases/download/v0.1/vgg19_weights_tf_dim_ordering_tf_kernels_notop.h5\n",
      "80142336/80134624 [==============================] - 1s 0us/step\n"
     ]
    }
   ],
   "source": [
    "base_model = VGG19(weights='imagenet', include_top=False)"
   ]
  },
  {
   "cell_type": "code",
   "execution_count": 8,
   "metadata": {},
   "outputs": [],
   "source": [
    "for layer in base_model.layers[:-15]: layer.trainable = False"
   ]
  },
  {
   "cell_type": "code",
   "execution_count": 9,
   "metadata": {},
   "outputs": [],
   "source": [
    "X = L.MaxPool2D()(base_model.output)\n",
    "X = L.GlobalMaxPool2D()(X)\n",
    "# X = L.Dense(1024, activation='relu')(X)\n",
    "X = L.Dense(1024, activation='relu')(X)\n",
    "X = L.Dropout(0.5)(X)\n",
    "X = L.BatchNormalization()(X)\n",
    "X = L.Dense(512,activation = 'softmax')(X)\n",
    "X = L.Dropout(0.3)(X)\n",
    "X = L.BatchNormalization()(X)\n",
    "X = L.Dense(256,activation = 'relu')(X)\n",
    "X = L.BatchNormalization()(X)\n",
    "X = L.Dense(1, activation='sigmoid')(X)\n",
    "model = Model(inputs=base_model.input, outputs=X)"
   ]
  },
  {
   "cell_type": "code",
   "execution_count": 10,
   "metadata": {},
   "outputs": [
    {
     "data": {
      "text/plain": [
       "22"
      ]
     },
     "execution_count": 10,
     "metadata": {},
     "output_type": "execute_result"
    }
   ],
   "source": [
    "len(base_model.layers)"
   ]
  },
  {
   "cell_type": "code",
   "execution_count": 11,
   "metadata": {},
   "outputs": [],
   "source": [
    "model.compile(optimizer='adam', loss='binary_crossentropy', metrics=['acc'])"
   ]
  },
  {
   "cell_type": "code",
   "execution_count": 12,
   "metadata": {},
   "outputs": [
    {
     "name": "stdout",
     "output_type": "stream",
     "text": [
      "Model: \"model_1\"\n",
      "_________________________________________________________________\n",
      "Layer (type)                 Output Shape              Param #   \n",
      "=================================================================\n",
      "input_1 (InputLayer)         (None, None, None, 3)     0         \n",
      "_________________________________________________________________\n",
      "block1_conv1 (Conv2D)        (None, None, None, 64)    1792      \n",
      "_________________________________________________________________\n",
      "block1_conv2 (Conv2D)        (None, None, None, 64)    36928     \n",
      "_________________________________________________________________\n",
      "block1_pool (MaxPooling2D)   (None, None, None, 64)    0         \n",
      "_________________________________________________________________\n",
      "block2_conv1 (Conv2D)        (None, None, None, 128)   73856     \n",
      "_________________________________________________________________\n",
      "block2_conv2 (Conv2D)        (None, None, None, 128)   147584    \n",
      "_________________________________________________________________\n",
      "block2_pool (MaxPooling2D)   (None, None, None, 128)   0         \n",
      "_________________________________________________________________\n",
      "block3_conv1 (Conv2D)        (None, None, None, 256)   295168    \n",
      "_________________________________________________________________\n",
      "block3_conv2 (Conv2D)        (None, None, None, 256)   590080    \n",
      "_________________________________________________________________\n",
      "block3_conv3 (Conv2D)        (None, None, None, 256)   590080    \n",
      "_________________________________________________________________\n",
      "block3_conv4 (Conv2D)        (None, None, None, 256)   590080    \n",
      "_________________________________________________________________\n",
      "block3_pool (MaxPooling2D)   (None, None, None, 256)   0         \n",
      "_________________________________________________________________\n",
      "block4_conv1 (Conv2D)        (None, None, None, 512)   1180160   \n",
      "_________________________________________________________________\n",
      "block4_conv2 (Conv2D)        (None, None, None, 512)   2359808   \n",
      "_________________________________________________________________\n",
      "block4_conv3 (Conv2D)        (None, None, None, 512)   2359808   \n",
      "_________________________________________________________________\n",
      "block4_conv4 (Conv2D)        (None, None, None, 512)   2359808   \n",
      "_________________________________________________________________\n",
      "block4_pool (MaxPooling2D)   (None, None, None, 512)   0         \n",
      "_________________________________________________________________\n",
      "block5_conv1 (Conv2D)        (None, None, None, 512)   2359808   \n",
      "_________________________________________________________________\n",
      "block5_conv2 (Conv2D)        (None, None, None, 512)   2359808   \n",
      "_________________________________________________________________\n",
      "block5_conv3 (Conv2D)        (None, None, None, 512)   2359808   \n",
      "_________________________________________________________________\n",
      "block5_conv4 (Conv2D)        (None, None, None, 512)   2359808   \n",
      "_________________________________________________________________\n",
      "block5_pool (MaxPooling2D)   (None, None, None, 512)   0         \n",
      "_________________________________________________________________\n",
      "max_pooling2d_1 (MaxPooling2 (None, None, None, 512)   0         \n",
      "_________________________________________________________________\n",
      "global_max_pooling2d_1 (Glob (None, 512)               0         \n",
      "_________________________________________________________________\n",
      "dense_1 (Dense)              (None, 1024)              525312    \n",
      "_________________________________________________________________\n",
      "dropout_1 (Dropout)          (None, 1024)              0         \n",
      "_________________________________________________________________\n",
      "batch_normalization_1 (Batch (None, 1024)              4096      \n",
      "_________________________________________________________________\n",
      "dense_2 (Dense)              (None, 512)               524800    \n",
      "_________________________________________________________________\n",
      "dropout_2 (Dropout)          (None, 512)               0         \n",
      "_________________________________________________________________\n",
      "batch_normalization_2 (Batch (None, 512)               2048      \n",
      "_________________________________________________________________\n",
      "dense_3 (Dense)              (None, 256)               131328    \n",
      "_________________________________________________________________\n",
      "batch_normalization_3 (Batch (None, 256)               1024      \n",
      "_________________________________________________________________\n",
      "dense_4 (Dense)              (None, 1)                 257       \n",
      "=================================================================\n",
      "Total params: 21,213,249\n",
      "Trainable params: 20,949,505\n",
      "Non-trainable params: 263,744\n",
      "_________________________________________________________________\n"
     ]
    }
   ],
   "source": [
    "model.summary()"
   ]
  },
  {
   "cell_type": "code",
   "execution_count": 13,
   "metadata": {},
   "outputs": [],
   "source": [
    "from keras.callbacks import EarlyStopping,ModelCheckpoint,ReduceLROnPlateau"
   ]
  },
  {
   "cell_type": "code",
   "execution_count": 14,
   "metadata": {},
   "outputs": [],
   "source": [
    "# earlyStopping = EarlyStopping(monitor='val_acc', patience=200, verbose=0, mode='min')\n",
    "mcp_save = ModelCheckpoint('.mdl_wts.hdf5', save_best_only=True, monitor='val_acc', mode='max')\n"
   ]
  },
  {
   "cell_type": "code",
   "execution_count": 15,
   "metadata": {},
   "outputs": [
    {
     "name": "stdout",
     "output_type": "stream",
     "text": [
      "Epoch 1/128\n",
      "41/41 [==============================] - 31s 745ms/step - loss: 0.6768 - acc: 0.6611 - val_loss: 0.7061 - val_acc: 0.5422\n",
      "Epoch 2/128\n",
      "41/41 [==============================] - 19s 458ms/step - loss: 0.4670 - acc: 0.7866 - val_loss: 0.7326 - val_acc: 0.5570\n",
      "Epoch 3/128\n",
      "41/41 [==============================] - 18s 449ms/step - loss: 0.4418 - acc: 0.8061 - val_loss: 0.6720 - val_acc: 0.5386\n",
      "Epoch 4/128\n",
      "41/41 [==============================] - 19s 453ms/step - loss: 0.4083 - acc: 0.8076 - val_loss: 0.6679 - val_acc: 0.5604\n",
      "Epoch 5/128\n",
      "41/41 [==============================] - 18s 449ms/step - loss: 0.4012 - acc: 0.8185 - val_loss: 0.6488 - val_acc: 0.5185\n",
      "Epoch 6/128\n",
      "41/41 [==============================] - 19s 456ms/step - loss: 0.3896 - acc: 0.8243 - val_loss: 0.6588 - val_acc: 0.5889\n",
      "Epoch 7/128\n",
      "41/41 [==============================] - 19s 474ms/step - loss: 0.3813 - acc: 0.8290 - val_loss: 0.6784 - val_acc: 0.5621\n",
      "Epoch 8/128\n",
      "41/41 [==============================] - 19s 458ms/step - loss: 0.3849 - acc: 0.8303 - val_loss: 0.5563 - val_acc: 0.6560\n",
      "Epoch 9/128\n",
      "41/41 [==============================] - 18s 449ms/step - loss: 0.3741 - acc: 0.8337 - val_loss: 0.6381 - val_acc: 0.6023\n",
      "Epoch 10/128\n",
      "41/41 [==============================] - 19s 458ms/step - loss: 0.3752 - acc: 0.8331 - val_loss: 0.5647 - val_acc: 0.6879\n",
      "Epoch 11/128\n",
      "41/41 [==============================] - 18s 444ms/step - loss: 0.3676 - acc: 0.8243 - val_loss: 0.5020 - val_acc: 0.7450\n",
      "Epoch 12/128\n",
      "41/41 [==============================] - 18s 441ms/step - loss: 0.3507 - acc: 0.8497 - val_loss: 0.3548 - val_acc: 0.7953\n",
      "Epoch 13/128\n",
      "41/41 [==============================] - 19s 465ms/step - loss: 0.3799 - acc: 0.8262 - val_loss: 0.5154 - val_acc: 0.7097\n",
      "Epoch 14/128\n",
      "41/41 [==============================] - 18s 444ms/step - loss: 0.3506 - acc: 0.8422 - val_loss: 0.5287 - val_acc: 0.6896\n",
      "Epoch 15/128\n",
      "41/41 [==============================] - 18s 447ms/step - loss: 0.3254 - acc: 0.8523 - val_loss: 1.4473 - val_acc: 0.5554\n",
      "Epoch 16/128\n",
      "41/41 [==============================] - 18s 450ms/step - loss: 0.3562 - acc: 0.8387 - val_loss: 1.2510 - val_acc: 0.5520\n",
      "Epoch 17/128\n",
      "41/41 [==============================] - 19s 453ms/step - loss: 0.3498 - acc: 0.8422 - val_loss: 1.1761 - val_acc: 0.5336\n",
      "Epoch 18/128\n",
      "41/41 [==============================] - 18s 450ms/step - loss: 0.3596 - acc: 0.8418 - val_loss: 0.3668 - val_acc: 0.8490\n",
      "Epoch 19/128\n",
      "41/41 [==============================] - 18s 449ms/step - loss: 0.3066 - acc: 0.8558 - val_loss: 0.8796 - val_acc: 0.6577\n",
      "Epoch 20/128\n",
      "41/41 [==============================] - 18s 451ms/step - loss: 0.3157 - acc: 0.8543 - val_loss: 0.7449 - val_acc: 0.6443\n",
      "Epoch 21/128\n",
      "41/41 [==============================] - 18s 449ms/step - loss: 0.3309 - acc: 0.8438 - val_loss: 0.9116 - val_acc: 0.5872\n",
      "Epoch 22/128\n",
      "41/41 [==============================] - 19s 452ms/step - loss: 0.3146 - acc: 0.8518 - val_loss: 1.2526 - val_acc: 0.5822\n",
      "Epoch 23/128\n",
      "41/41 [==============================] - 19s 456ms/step - loss: 0.3234 - acc: 0.8525 - val_loss: 0.9824 - val_acc: 0.5609\n",
      "Epoch 24/128\n",
      "41/41 [==============================] - 19s 460ms/step - loss: 0.3093 - acc: 0.8613 - val_loss: 1.3791 - val_acc: 0.4581\n",
      "Epoch 25/128\n",
      "41/41 [==============================] - 19s 468ms/step - loss: 0.3131 - acc: 0.8548 - val_loss: 0.9448 - val_acc: 0.5990\n",
      "Epoch 26/128\n",
      "41/41 [==============================] - 19s 460ms/step - loss: 0.3207 - acc: 0.8554 - val_loss: 0.2718 - val_acc: 0.8372\n",
      "Epoch 27/128\n",
      "41/41 [==============================] - 18s 444ms/step - loss: 0.2912 - acc: 0.8755 - val_loss: 1.1827 - val_acc: 0.5856\n",
      "Epoch 28/128\n",
      "41/41 [==============================] - 18s 450ms/step - loss: 0.2829 - acc: 0.8706 - val_loss: 0.6737 - val_acc: 0.7701\n",
      "Epoch 29/128\n",
      "41/41 [==============================] - 18s 448ms/step - loss: 0.2855 - acc: 0.8760 - val_loss: 0.4128 - val_acc: 0.8070\n",
      "Epoch 30/128\n",
      "41/41 [==============================] - 19s 465ms/step - loss: 0.2939 - acc: 0.8666 - val_loss: 0.4974 - val_acc: 0.8440\n",
      "Epoch 31/128\n",
      "41/41 [==============================] - 18s 451ms/step - loss: 0.2812 - acc: 0.8772 - val_loss: 0.3533 - val_acc: 0.8641\n",
      "Epoch 32/128\n",
      "41/41 [==============================] - 19s 470ms/step - loss: 0.2914 - acc: 0.8694 - val_loss: 1.1063 - val_acc: 0.7232\n",
      "Epoch 33/128\n",
      "41/41 [==============================] - 19s 455ms/step - loss: 0.2829 - acc: 0.8690 - val_loss: 1.0104 - val_acc: 0.6258\n",
      "Epoch 34/128\n",
      "41/41 [==============================] - 19s 453ms/step - loss: 0.2560 - acc: 0.8908 - val_loss: 0.3767 - val_acc: 0.8484\n",
      "Epoch 35/128\n",
      "41/41 [==============================] - 19s 456ms/step - loss: 0.2427 - acc: 0.8892 - val_loss: 0.3646 - val_acc: 0.8423\n",
      "Epoch 36/128\n",
      "41/41 [==============================] - 19s 460ms/step - loss: 0.2754 - acc: 0.8784 - val_loss: 0.5432 - val_acc: 0.7651\n",
      "Epoch 37/128\n",
      "41/41 [==============================] - 19s 452ms/step - loss: 0.2511 - acc: 0.8846 - val_loss: 0.6425 - val_acc: 0.7701\n",
      "Epoch 38/128\n",
      "41/41 [==============================] - 18s 449ms/step - loss: 0.2653 - acc: 0.8838 - val_loss: 0.2776 - val_acc: 0.8607\n",
      "Epoch 39/128\n",
      "41/41 [==============================] - 19s 458ms/step - loss: 0.2567 - acc: 0.8822 - val_loss: 0.3324 - val_acc: 0.8289\n",
      "Epoch 40/128\n",
      "41/41 [==============================] - 19s 453ms/step - loss: 0.2565 - acc: 0.8881 - val_loss: 0.6250 - val_acc: 0.7752\n",
      "Epoch 41/128\n",
      "41/41 [==============================] - 19s 458ms/step - loss: 0.2306 - acc: 0.8888 - val_loss: 0.5699 - val_acc: 0.7634\n",
      "Epoch 42/128\n",
      "41/41 [==============================] - 20s 477ms/step - loss: 0.2468 - acc: 0.8873 - val_loss: 0.2470 - val_acc: 0.8591\n",
      "Epoch 43/128\n",
      "41/41 [==============================] - 18s 449ms/step - loss: 0.2256 - acc: 0.9021 - val_loss: 0.4647 - val_acc: 0.7919\n",
      "Epoch 44/128\n",
      "41/41 [==============================] - 18s 448ms/step - loss: 0.2429 - acc: 0.8982 - val_loss: 0.6370 - val_acc: 0.8440\n",
      "Epoch 45/128\n",
      "41/41 [==============================] - 19s 455ms/step - loss: 0.2230 - acc: 0.9017 - val_loss: 0.2742 - val_acc: 0.8625\n",
      "Epoch 46/128\n",
      "41/41 [==============================] - 18s 450ms/step - loss: 0.2103 - acc: 0.9048 - val_loss: 0.5134 - val_acc: 0.7047\n",
      "Epoch 47/128\n",
      "41/41 [==============================] - 18s 451ms/step - loss: 0.2144 - acc: 0.9013 - val_loss: 1.4783 - val_acc: 0.6711\n",
      "Epoch 48/128\n",
      "41/41 [==============================] - 19s 455ms/step - loss: 0.1946 - acc: 0.9169 - val_loss: 0.5005 - val_acc: 0.8322\n",
      "Epoch 49/128\n",
      "41/41 [==============================] - 19s 465ms/step - loss: 0.2050 - acc: 0.9155 - val_loss: 0.4412 - val_acc: 0.8389\n",
      "Epoch 50/128\n",
      "41/41 [==============================] - 19s 458ms/step - loss: 0.1920 - acc: 0.9158 - val_loss: 0.4714 - val_acc: 0.8255\n",
      "Epoch 51/128\n",
      "41/41 [==============================] - 19s 464ms/step - loss: 0.1670 - acc: 0.9302 - val_loss: 0.7410 - val_acc: 0.7248\n",
      "Epoch 52/128\n",
      "41/41 [==============================] - 19s 456ms/step - loss: 0.2069 - acc: 0.9075 - val_loss: 0.3598 - val_acc: 0.8658\n",
      "Epoch 53/128\n",
      "41/41 [==============================] - 18s 449ms/step - loss: 0.1865 - acc: 0.9203 - val_loss: 0.5824 - val_acc: 0.7752\n",
      "Epoch 54/128\n",
      "41/41 [==============================] - 19s 455ms/step - loss: 0.1890 - acc: 0.9230 - val_loss: 0.8567 - val_acc: 0.5789\n",
      "Epoch 55/128\n",
      "41/41 [==============================] - 18s 447ms/step - loss: 0.2166 - acc: 0.9079 - val_loss: 2.9325 - val_acc: 0.4497\n",
      "Epoch 56/128\n",
      "41/41 [==============================] - 18s 440ms/step - loss: 0.1821 - acc: 0.9179 - val_loss: 1.2970 - val_acc: 0.7312\n",
      "Epoch 57/128\n",
      "41/41 [==============================] - 19s 458ms/step - loss: 0.1764 - acc: 0.9268 - val_loss: 0.4929 - val_acc: 0.8708\n",
      "Epoch 58/128\n",
      "41/41 [==============================] - 18s 451ms/step - loss: 0.1692 - acc: 0.9297 - val_loss: 0.5573 - val_acc: 0.8238\n",
      "Epoch 59/128\n",
      "41/41 [==============================] - 18s 442ms/step - loss: 0.1868 - acc: 0.9227 - val_loss: 0.8256 - val_acc: 0.7802\n",
      "Epoch 60/128\n",
      "41/41 [==============================] - 18s 449ms/step - loss: 0.1432 - acc: 0.9433 - val_loss: 2.0573 - val_acc: 0.6779\n",
      "Epoch 61/128\n",
      "41/41 [==============================] - 19s 457ms/step - loss: 0.1665 - acc: 0.9322 - val_loss: 0.2460 - val_acc: 0.8574\n",
      "Epoch 62/128\n",
      "41/41 [==============================] - 18s 451ms/step - loss: 0.1299 - acc: 0.9473 - val_loss: 0.4773 - val_acc: 0.7852\n",
      "Epoch 63/128\n",
      "41/41 [==============================] - 18s 449ms/step - loss: 0.1294 - acc: 0.9452 - val_loss: 0.9178 - val_acc: 0.6728\n",
      "Epoch 64/128\n",
      "41/41 [==============================] - 19s 474ms/step - loss: 0.1391 - acc: 0.9463 - val_loss: 0.9448 - val_acc: 0.8104\n",
      "Epoch 65/128\n",
      "41/41 [==============================] - 20s 478ms/step - loss: 0.1508 - acc: 0.9409 - val_loss: 0.5721 - val_acc: 0.8322\n",
      "Epoch 66/128\n",
      "41/41 [==============================] - 19s 469ms/step - loss: 0.1273 - acc: 0.9518 - val_loss: 1.3232 - val_acc: 0.8188\n",
      "Epoch 67/128\n",
      "41/41 [==============================] - 19s 465ms/step - loss: 0.1510 - acc: 0.9374 - val_loss: 1.1234 - val_acc: 0.8125\n",
      "Epoch 68/128\n",
      "41/41 [==============================] - 20s 491ms/step - loss: 0.1126 - acc: 0.9546 - val_loss: 0.2398 - val_acc: 0.8742\n",
      "Epoch 69/128\n",
      "41/41 [==============================] - 18s 450ms/step - loss: 0.1114 - acc: 0.9549 - val_loss: 0.7371 - val_acc: 0.7349\n",
      "Epoch 70/128\n",
      "41/41 [==============================] - 18s 450ms/step - loss: 0.1574 - acc: 0.9390 - val_loss: 0.5299 - val_acc: 0.8423\n",
      "Epoch 71/128\n",
      "41/41 [==============================] - 18s 447ms/step - loss: 0.0986 - acc: 0.9655 - val_loss: 0.4273 - val_acc: 0.8205\n",
      "Epoch 72/128\n",
      "41/41 [==============================] - 19s 456ms/step - loss: 0.1025 - acc: 0.9596 - val_loss: 0.8625 - val_acc: 0.8490\n",
      "Epoch 73/128\n",
      "41/41 [==============================] - 19s 452ms/step - loss: 0.0997 - acc: 0.9619 - val_loss: 1.1222 - val_acc: 0.7634\n",
      "Epoch 74/128\n",
      "41/41 [==============================] - 19s 453ms/step - loss: 0.1079 - acc: 0.9584 - val_loss: 0.5729 - val_acc: 0.8406\n",
      "Epoch 75/128\n",
      "41/41 [==============================] - 20s 486ms/step - loss: 0.0846 - acc: 0.9695 - val_loss: 0.8209 - val_acc: 0.8406\n",
      "Epoch 76/128\n",
      "41/41 [==============================] - 19s 475ms/step - loss: 0.1013 - acc: 0.9623 - val_loss: 1.8099 - val_acc: 0.5487\n",
      "Epoch 77/128\n",
      "41/41 [==============================] - 19s 476ms/step - loss: 0.1131 - acc: 0.9580 - val_loss: 0.1505 - val_acc: 0.8758\n",
      "Epoch 78/128\n",
      "41/41 [==============================] - 18s 449ms/step - loss: 0.1199 - acc: 0.9553 - val_loss: 0.5665 - val_acc: 0.8578\n",
      "Epoch 79/128\n",
      "41/41 [==============================] - 19s 453ms/step - loss: 0.1018 - acc: 0.9666 - val_loss: 0.3036 - val_acc: 0.8624\n",
      "Epoch 80/128\n",
      "41/41 [==============================] - 19s 461ms/step - loss: 0.0705 - acc: 0.9767 - val_loss: 0.6218 - val_acc: 0.8725\n",
      "Epoch 81/128\n",
      "41/41 [==============================] - 19s 458ms/step - loss: 0.0767 - acc: 0.9716 - val_loss: 2.2755 - val_acc: 0.6510\n",
      "Epoch 82/128\n",
      "41/41 [==============================] - 19s 456ms/step - loss: 0.0557 - acc: 0.9771 - val_loss: 0.7532 - val_acc: 0.8406\n",
      "Epoch 83/128\n",
      "41/41 [==============================] - 19s 453ms/step - loss: 0.0671 - acc: 0.9751 - val_loss: 0.9729 - val_acc: 0.8372\n",
      "Epoch 84/128\n",
      "41/41 [==============================] - 19s 463ms/step - loss: 0.0668 - acc: 0.9747 - val_loss: 1.4033 - val_acc: 0.8054\n",
      "Epoch 85/128\n",
      "41/41 [==============================] - 19s 471ms/step - loss: 0.0548 - acc: 0.9771 - val_loss: 0.7406 - val_acc: 0.8473\n",
      "Epoch 86/128\n",
      "41/41 [==============================] - 20s 481ms/step - loss: 0.0518 - acc: 0.9813 - val_loss: 0.4202 - val_acc: 0.8607\n",
      "Epoch 87/128\n",
      "41/41 [==============================] - 20s 489ms/step - loss: 0.0554 - acc: 0.9806 - val_loss: 0.6839 - val_acc: 0.8507\n",
      "Epoch 88/128\n",
      "41/41 [==============================] - 19s 468ms/step - loss: 0.0768 - acc: 0.9746 - val_loss: 0.9468 - val_acc: 0.8624\n",
      "Epoch 89/128\n",
      "41/41 [==============================] - 20s 479ms/step - loss: 0.0553 - acc: 0.9825 - val_loss: 1.0760 - val_acc: 0.8625\n",
      "Epoch 90/128\n",
      "41/41 [==============================] - 20s 478ms/step - loss: 0.0663 - acc: 0.9755 - val_loss: 0.6715 - val_acc: 0.8591\n",
      "Epoch 91/128\n",
      "41/41 [==============================] - 19s 475ms/step - loss: 0.0638 - acc: 0.9759 - val_loss: 0.5581 - val_acc: 0.8591\n",
      "Epoch 92/128\n",
      "41/41 [==============================] - 19s 472ms/step - loss: 0.0262 - acc: 0.9907 - val_loss: 0.3289 - val_acc: 0.8456\n",
      "Epoch 93/128\n",
      "41/41 [==============================] - 20s 487ms/step - loss: 0.0362 - acc: 0.9886 - val_loss: 0.6451 - val_acc: 0.7634\n",
      "Epoch 94/128\n",
      "41/41 [==============================] - 19s 466ms/step - loss: 0.0760 - acc: 0.9715 - val_loss: 0.6675 - val_acc: 0.8221\n",
      "Epoch 95/128\n",
      "41/41 [==============================] - 19s 474ms/step - loss: 0.0837 - acc: 0.9654 - val_loss: 0.5641 - val_acc: 0.8356\n",
      "Epoch 96/128\n",
      "41/41 [==============================] - 20s 478ms/step - loss: 0.0333 - acc: 0.9895 - val_loss: 0.9109 - val_acc: 0.8406\n",
      "Epoch 97/128\n",
      "41/41 [==============================] - 19s 473ms/step - loss: 0.0451 - acc: 0.9837 - val_loss: 0.9964 - val_acc: 0.8691\n",
      "Epoch 98/128\n",
      "41/41 [==============================] - 20s 481ms/step - loss: 0.0322 - acc: 0.9882 - val_loss: 0.9690 - val_acc: 0.8624\n",
      "Epoch 99/128\n",
      "41/41 [==============================] - 19s 475ms/step - loss: 0.0230 - acc: 0.9926 - val_loss: 2.3576 - val_acc: 0.8624\n",
      "Epoch 100/128\n",
      "41/41 [==============================] - 19s 465ms/step - loss: 0.0368 - acc: 0.9853 - val_loss: 0.7285 - val_acc: 0.7875\n",
      "Epoch 101/128\n",
      "41/41 [==============================] - 19s 475ms/step - loss: 0.0382 - acc: 0.9880 - val_loss: 0.3809 - val_acc: 0.8456\n",
      "Epoch 102/128\n",
      "41/41 [==============================] - 20s 485ms/step - loss: 0.0311 - acc: 0.9867 - val_loss: 3.1352 - val_acc: 0.6846\n",
      "Epoch 103/128\n",
      "41/41 [==============================] - 19s 466ms/step - loss: 0.0874 - acc: 0.9778 - val_loss: 0.5060 - val_acc: 0.8591\n",
      "Epoch 104/128\n",
      "41/41 [==============================] - 19s 473ms/step - loss: 0.0684 - acc: 0.9755 - val_loss: 0.6709 - val_acc: 0.8440\n",
      "Epoch 105/128\n",
      "41/41 [==============================] - 20s 486ms/step - loss: 0.0366 - acc: 0.9870 - val_loss: 0.4601 - val_acc: 0.8742\n",
      "Epoch 106/128\n",
      "41/41 [==============================] - 19s 474ms/step - loss: 0.0828 - acc: 0.9790 - val_loss: 1.2911 - val_acc: 0.7013\n",
      "Epoch 107/128\n",
      "41/41 [==============================] - 19s 474ms/step - loss: 0.0609 - acc: 0.9802 - val_loss: 0.3990 - val_acc: 0.8440\n",
      "Epoch 108/128\n",
      "41/41 [==============================] - 19s 473ms/step - loss: 0.0486 - acc: 0.9817 - val_loss: 0.5995 - val_acc: 0.8289\n",
      "Epoch 109/128\n",
      "41/41 [==============================] - 20s 479ms/step - loss: 0.0407 - acc: 0.9883 - val_loss: 0.7061 - val_acc: 0.8339\n",
      "Epoch 110/128\n",
      "41/41 [==============================] - 19s 471ms/step - loss: 0.0445 - acc: 0.9880 - val_loss: 0.5438 - val_acc: 0.8557\n",
      "Epoch 111/128\n",
      "41/41 [==============================] - 19s 469ms/step - loss: 0.0455 - acc: 0.9826 - val_loss: 0.5403 - val_acc: 0.8219\n",
      "Epoch 112/128\n",
      "41/41 [==============================] - 20s 476ms/step - loss: 0.0431 - acc: 0.9821 - val_loss: 0.4093 - val_acc: 0.8423\n",
      "Epoch 113/128\n",
      "41/41 [==============================] - 20s 481ms/step - loss: 0.0286 - acc: 0.9893 - val_loss: 0.5710 - val_acc: 0.8121\n",
      "Epoch 114/128\n",
      "41/41 [==============================] - 19s 472ms/step - loss: 0.0175 - acc: 0.9933 - val_loss: 0.6772 - val_acc: 0.8507\n",
      "Epoch 115/128\n",
      "41/41 [==============================] - 19s 475ms/step - loss: 0.0261 - acc: 0.9914 - val_loss: 0.6089 - val_acc: 0.8624\n",
      "Epoch 116/128\n",
      "41/41 [==============================] - 19s 474ms/step - loss: 0.0216 - acc: 0.9922 - val_loss: 1.1628 - val_acc: 0.8356\n",
      "Epoch 117/128\n",
      "41/41 [==============================] - 19s 476ms/step - loss: 0.0217 - acc: 0.9922 - val_loss: 1.2766 - val_acc: 0.8674\n",
      "Epoch 118/128\n",
      "41/41 [==============================] - 20s 486ms/step - loss: 0.0223 - acc: 0.9950 - val_loss: 0.8645 - val_acc: 0.8708\n",
      "Epoch 119/128\n",
      "41/41 [==============================] - 19s 475ms/step - loss: 0.0311 - acc: 0.9880 - val_loss: 0.7656 - val_acc: 0.8658\n",
      "Epoch 120/128\n",
      "41/41 [==============================] - 19s 468ms/step - loss: 0.0141 - acc: 0.9964 - val_loss: 0.6013 - val_acc: 0.8540\n",
      "Epoch 121/128\n",
      "41/41 [==============================] - 20s 482ms/step - loss: 0.0050 - acc: 0.9989 - val_loss: 0.2684 - val_acc: 0.8440\n",
      "Epoch 122/128\n",
      "41/41 [==============================] - 19s 465ms/step - loss: 0.0021 - acc: 0.9996 - val_loss: 1.0249 - val_acc: 0.8578\n",
      "Epoch 123/128\n",
      "41/41 [==============================] - 20s 492ms/step - loss: 0.0046 - acc: 0.9981 - val_loss: 0.7044 - val_acc: 0.8423\n",
      "Epoch 124/128\n",
      "41/41 [==============================] - 20s 485ms/step - loss: 0.0088 - acc: 0.9968 - val_loss: 0.5581 - val_acc: 0.8574\n",
      "Epoch 125/128\n",
      "41/41 [==============================] - 20s 493ms/step - loss: 0.0336 - acc: 0.9889 - val_loss: 1.3260 - val_acc: 0.8322\n",
      "Epoch 126/128\n",
      "41/41 [==============================] - 20s 485ms/step - loss: 0.0359 - acc: 0.9895 - val_loss: 0.9357 - val_acc: 0.7768\n",
      "Epoch 127/128\n",
      "41/41 [==============================] - 20s 479ms/step - loss: 0.0605 - acc: 0.9778 - val_loss: 0.9345 - val_acc: 0.8205\n",
      "Epoch 128/128\n",
      "41/41 [==============================] - 20s 479ms/step - loss: 0.0314 - acc: 0.9918 - val_loss: 0.8815 - val_acc: 0.8574\n"
     ]
    }
   ],
   "source": [
    "history = model.fit_generator(train_gen, steps_per_epoch=train_gen.n//bs, epochs=128,\n",
    "                   validation_data=val_gen, validation_steps=val_gen.n//bs, workers=2,\n",
    "                   callbacks=[mcp_save])"
   ]
  },
  {
   "cell_type": "code",
   "execution_count": 16,
   "metadata": {},
   "outputs": [],
   "source": [
    "model.save('model.h5')"
   ]
  },
  {
   "cell_type": "code",
   "execution_count": 17,
   "metadata": {},
   "outputs": [
    {
     "data": {
      "image/png": "[encoded data removed]",
      "text/plain": [
       "<Figure size 432x288 with 1 Axes>"
      ]
     },
     "metadata": {
      "needs_background": "light"
     },
     "output_type": "display_data"
    },
    {
     "data": {
      "image/png": "[encoded data removed]",
      "text/plain": [
       "<Figure size 432x288 with 1 Axes>"
      ]
     },
     "metadata": {
      "needs_background": "light"
     },
     "output_type": "display_data"
    }
   ],
   "source": [
    "\n",
    "from keras.utils import plot_model\n",
    "plot_model(model, to_file='model.png')\n",
    "plt.plot(history.history['acc'])\n",
    "plt.plot(history.history['val_acc'])\n",
    "plt.title('Model accuracy')\n",
    "plt.ylabel('Accuracy')\n",
    "plt.xlabel('Epoch')\n",
    "plt.legend(['Train', 'Test'], loc='upper left')\n",
    "plt.show()\n",
    "\n",
    "# Plot training & validation loss values\n",
    "plt.plot(history.history['loss'])\n",
    "plt.plot(history.history['val_loss'])\n",
    "plt.title('Model loss')\n",
    "plt.ylabel('Loss')\n",
    "plt.xlabel('Epoch')\n",
    "plt.legend(['Train', 'Test'], loc='upper left')\n",
    "plt.show()"
   ]
  },
  {
   "cell_type": "code",
   "execution_count": 18,
   "metadata": {},
   "outputs": [
    {
     "data": {
      "text/plain": [
       "[0.008708843030035496, 0.9715585708618164]"
      ]
     },
     "execution_count": 18,
     "metadata": {},
     "output_type": "execute_result"
    }
   ],
   "source": [
    "model.evaluate_generator(train_gen)"
   ]
  },
  {
   "cell_type": "code",
   "execution_count": 19,
   "metadata": {},
   "outputs": [
    {
     "data": {
      "text/plain": [
       "[1.4564120769500732, 0.842424213886261]"
      ]
     },
     "execution_count": 19,
     "metadata": {},
     "output_type": "execute_result"
    }
   ],
   "source": [
    "model.evaluate_generator(val_gen)"
   ]
  },
  {
   "cell_type": "code",
   "execution_count": 20,
   "metadata": {},
   "outputs": [
    {
     "data": {
      "text/plain": [
       "<keras.callbacks.callbacks.ModelCheckpoint at 0x7f04ae5ef860>"
      ]
     },
     "execution_count": 20,
     "metadata": {},
     "output_type": "execute_result"
    }
   ],
   "source": [
    "import keras\n",
    "keras.callbacks.callbacks.History()\n",
    "keras.callbacks.callbacks.ModelCheckpoint(filepath='/kaggle/working/.ipynb_checkpoints')"
   ]
  },
  {
   "cell_type": "code",
   "execution_count": 21,
   "metadata": {},
   "outputs": [
    {
     "name": "stdout",
     "output_type": "stream",
     "text": [
      "Malign\n"
     ]
    }
   ],
   "source": [
    "#Single Benign Image Testing\n",
    "import cv2\n",
    "img = cv2.imread('../input/singleimages/testbenign.jpg')\n",
    "img = img.reshape((1,*img.shape))\n",
    "print('Malign' if model.predict(img) > 0.5 else 'Benign')"
   ]
  },
  {
   "cell_type": "code",
   "execution_count": 22,
   "metadata": {},
   "outputs": [
    {
     "name": "stdout",
     "output_type": "stream",
     "text": [
      "Malign\n"
     ]
    }
   ],
   "source": [
    "#Single Malign Image Testing\n",
    "img = cv2.imread('../input/singleimages/testsample malign.png')\n",
    "img = img.reshape((1,*img.shape))\n",
    "print('Malign' if model.predict(img) > 0.5 else 'Benign')"
   ]
  },
  {
   "cell_type": "code",
   "execution_count": null,
   "metadata": {},
   "outputs": [],
   "source": []
  }
 ],
 "metadata": {
  "kernelspec": {
   "display_name": "Python 3",
   "language": "python",
   "name": "python3"
  },
  "language_info": {
   "codemirror_mode": {
    "name": "ipython",
    "version": 3
   },
   "file_extension": ".py",
   "mimetype": "text/x-python",
   "name": "python",
   "nbconvert_exporter": "python",
   "pygments_lexer": "ipython3",
   "version": "3.6.6"
  }
 },
 "nbformat": 4,
 "nbformat_minor": 4
}
